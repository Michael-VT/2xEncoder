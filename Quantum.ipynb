{
  "nbformat": 4,
  "nbformat_minor": 0,
  "metadata": {
    "colab": {
      "name": "Quantum.ipynb",
      "provenance": [],
      "collapsed_sections": [],
      "include_colab_link": true
    },
    "kernelspec": {
      "name": "python3",
      "display_name": "Python 3"
    }
  },
  "cells": [
    {
      "cell_type": "markdown",
      "metadata": {
        "id": "view-in-github",
        "colab_type": "text"
      },
      "source": [
        "<a href=\"https://colab.research.google.com/github/Michael-VT/2xEncoder/blob/2xEncoder/Quantum.ipynb\" target=\"_parent\"><img src=\"https://colab.research.google.com/assets/colab-badge.svg\" alt=\"Open In Colab\"/></a>"
      ]
    },
    {
      "cell_type": "code",
      "metadata": {
        "id": "bVKwR6irxPFL",
        "colab_type": "code",
        "colab": {}
      },
      "source": [
        "import numpy as np"
      ],
      "execution_count": null,
      "outputs": []
    },
    {
      "cell_type": "code",
      "metadata": {
        "id": "t5Qx6z2oxYwq",
        "colab_type": "code",
        "colab": {}
      },
      "source": [
        "# тождество\n",
        "def I():\n",
        "  return np.identity(2)\n",
        "\n",
        "# поворот по X, отрицание\n",
        "def X():\n",
        "  return np.identity(2)[..., ::-1]\n",
        "\n",
        "# Оператор Адамара, суперпозиция\n",
        "def H():\n",
        "  return np.array([[1, 1], [1, -1]]) / np.sqrt(2)\n",
        "\n",
        "# Меняем местам 2 кубита\n",
        "def SWAP():\n",
        "  m = np.identity(4)\n",
        "  m[[1, 2]] = m[[2, 1]]\n",
        "  return m\n",
        "\n",
        "# Контролируемое отрицание\n",
        "def CX():\n",
        "  m = np.identity(4)\n",
        "  m[[3, 2]] = m[[2, 3]]\n",
        "  return m"
      ],
      "execution_count": null,
      "outputs": []
    },
    {
      "cell_type": "code",
      "metadata": {
        "id": "KKI2w1HOxj4B",
        "colab_type": "code",
        "colab": {}
      },
      "source": [
        "def apply(v, *gates):\n",
        "  m = gates[0]\n",
        "  gates = gates[1:]\n",
        "  for gate in gates:\n",
        "    m = np.kron(gate, m)\n",
        "  return m.dot(v)\n",
        "\n",
        "def observe(v):\n",
        "  v2 = np.absolute(v) ** 2\n",
        "  c = np.random.choice(v.size, 1, p=v2)\n",
        "  return c[0]"
      ],
      "execution_count": null,
      "outputs": []
    },
    {
      "cell_type": "code",
      "metadata": {
        "id": "TZ_VR69DxxuF",
        "colab_type": "code",
        "colab": {
          "base_uri": "https://localhost:8080/",
          "height": 34
        },
        "outputId": "7c05bebf-69e1-4ea6-98ca-4167f8559f14"
      },
      "source": [
        "# Пример\n",
        "# делаем 3 кубита в состоянии 000, размер массива 2^n\n",
        "a = np.array([1, 0, 0, 0, 0, 0, 0, 0])\n",
        "\n",
        "# переводим 2ой кубит в суперпозицию 0 и 1\n",
        "a = apply(a, I(), H(), I())\n",
        "\n",
        "# запутываем 1ый и 2ой кубит\n",
        "a = apply(a, CX(), I())\n",
        "\n",
        "# меняем местами 2ой и 3ий кубит\n",
        "a = apply(a, I(), SWAP())\n",
        "\n",
        "# наблюдаем состояние\n",
        "observe(a)"
      ],
      "execution_count": null,
      "outputs": [
        {
          "output_type": "execute_result",
          "data": {
            "text/plain": [
              "0"
            ]
          },
          "metadata": {
            "tags": []
          },
          "execution_count": 15
        }
      ]
    }
  ]
}